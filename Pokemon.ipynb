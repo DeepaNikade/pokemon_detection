{
 "cells": [
  {
   "cell_type": "code",
   "execution_count": 1,
   "id": "b6a92106",
   "metadata": {},
   "outputs": [],
   "source": [
    "import tensorflow as tf\n",
    "from keras.preprocessing.image import ImageDataGenerator"
   ]
  },
  {
   "cell_type": "code",
   "execution_count": 2,
   "id": "17d65c29",
   "metadata": {},
   "outputs": [],
   "source": [
    "import matplotlib.pyplot as plt"
   ]
  },
  {
   "cell_type": "code",
   "execution_count": 3,
   "id": "1b6e83e2",
   "metadata": {},
   "outputs": [
    {
     "name": "stdout",
     "output_type": "stream",
     "text": [
      "Found 50 images belonging to 2 classes.\n"
     ]
    }
   ],
   "source": [
    "train_datagen = ImageDataGenerator(rescale = 1./255,\n",
    "                                   shear_range = 0.2,\n",
    "                                   zoom_range = 0.2,\n",
    "                                   horizontal_flip = True)\n",
    "training_set = train_datagen.flow_from_directory('dataset/pokemon/pika_pika/training_set',\n",
    "                                                 target_size = (64, 64),\n",
    "                                                 batch_size = 32,\n",
    "                                                 class_mode = 'binary')"
   ]
  },
  {
   "cell_type": "code",
   "execution_count": 5,
   "id": "e1ec498f",
   "metadata": {},
   "outputs": [
    {
     "name": "stdout",
     "output_type": "stream",
     "text": [
      "Found 10 images belonging to 2 classes.\n"
     ]
    }
   ],
   "source": [
    "test_datagen = ImageDataGenerator(rescale = 1./255)\n",
    "test_set = test_datagen.flow_from_directory('dataset/pokemon/pika_pika/test_set',\n",
    "                                            target_size = (64, 64),\n",
    "                                            batch_size = 32,\n",
    "                                            class_mode = 'binary')"
   ]
  },
  {
   "cell_type": "code",
   "execution_count": 6,
   "id": "252c6757",
   "metadata": {},
   "outputs": [],
   "source": [
    "#initializing the cnn\n",
    "cnn = tf.keras.models.Sequential()"
   ]
  },
  {
   "cell_type": "code",
   "execution_count": 7,
   "id": "dfa83024",
   "metadata": {},
   "outputs": [],
   "source": [
    "#convolution\n",
    "cnn.add(tf.keras.layers.Conv2D(filters=32, kernel_size=3, activation='relu', input_shape=[64, 64, 3]))"
   ]
  },
  {
   "cell_type": "code",
   "execution_count": 8,
   "id": "1c5f2825",
   "metadata": {},
   "outputs": [],
   "source": [
    "#Pooling\n",
    "cnn.add(tf.keras.layers.MaxPool2D(pool_size=2, strides=2))"
   ]
  },
  {
   "cell_type": "code",
   "execution_count": 9,
   "id": "2fbe6cf7",
   "metadata": {},
   "outputs": [],
   "source": [
    "#Adding a second convolutional layer\n",
    "cnn.add(tf.keras.layers.Conv2D(filters=32, kernel_size=3, activation='relu'))\n",
    "cnn.add(tf.keras.layers.MaxPool2D(pool_size=2, strides=2))"
   ]
  },
  {
   "cell_type": "code",
   "execution_count": 10,
   "id": "f9ccc760",
   "metadata": {},
   "outputs": [],
   "source": [
    "#Flattening\n",
    "cnn.add(tf.keras.layers.Flatten())"
   ]
  },
  {
   "cell_type": "code",
   "execution_count": 11,
   "id": "c5a546c3",
   "metadata": {},
   "outputs": [],
   "source": [
    "# Full Connection\n",
    "cnn.add(tf.keras.layers.Dense(units=128, activation='relu'))"
   ]
  },
  {
   "cell_type": "code",
   "execution_count": 12,
   "id": "41593d67",
   "metadata": {},
   "outputs": [],
   "source": [
    "#Output Layer\n",
    "cnn.add(tf.keras.layers.Dense(units=1, activation='sigmoid'))"
   ]
  },
  {
   "cell_type": "code",
   "execution_count": 13,
   "id": "9def641d",
   "metadata": {},
   "outputs": [],
   "source": [
    "#Compiling the cnn\n",
    "cnn.compile(optimizer = 'adam', loss = 'binary_crossentropy', metrics = ['accuracy'])"
   ]
  },
  {
   "cell_type": "code",
   "execution_count": 14,
   "id": "88fb61b0",
   "metadata": {},
   "outputs": [
    {
     "name": "stdout",
     "output_type": "stream",
     "text": [
      "Epoch 1/25\n",
      "2/2 [==============================] - 1s 525ms/step - loss: 1.0401 - accuracy: 0.5400 - val_loss: 0.6736 - val_accuracy: 0.5000\n",
      "Epoch 2/25\n",
      "2/2 [==============================] - 1s 412ms/step - loss: 0.6899 - accuracy: 0.5200 - val_loss: 0.8330 - val_accuracy: 0.5000\n",
      "Epoch 3/25\n",
      "2/2 [==============================] - 1s 389ms/step - loss: 0.7291 - accuracy: 0.4800 - val_loss: 0.7544 - val_accuracy: 0.5000\n",
      "Epoch 4/25\n",
      "2/2 [==============================] - 1s 491ms/step - loss: 0.6944 - accuracy: 0.5000 - val_loss: 0.7153 - val_accuracy: 0.5000\n",
      "Epoch 5/25\n",
      "2/2 [==============================] - 1s 438ms/step - loss: 0.6545 - accuracy: 0.6600 - val_loss: 0.6912 - val_accuracy: 0.5000\n",
      "Epoch 6/25\n",
      "2/2 [==============================] - 0s 242ms/step - loss: 0.6405 - accuracy: 0.6400 - val_loss: 0.6916 - val_accuracy: 0.6000\n",
      "Epoch 7/25\n",
      "2/2 [==============================] - 1s 440ms/step - loss: 0.6125 - accuracy: 0.6600 - val_loss: 0.7001 - val_accuracy: 0.6000\n",
      "Epoch 8/25\n",
      "2/2 [==============================] - 1s 371ms/step - loss: 0.6010 - accuracy: 0.7000 - val_loss: 0.7240 - val_accuracy: 0.4000\n",
      "Epoch 9/25\n",
      "2/2 [==============================] - 1s 404ms/step - loss: 0.5412 - accuracy: 0.7600 - val_loss: 0.7247 - val_accuracy: 0.3000\n",
      "Epoch 10/25\n",
      "2/2 [==============================] - 0s 220ms/step - loss: 0.4998 - accuracy: 0.7400 - val_loss: 0.7592 - val_accuracy: 0.5000\n",
      "Epoch 11/25\n",
      "2/2 [==============================] - 0s 215ms/step - loss: 0.4920 - accuracy: 0.7600 - val_loss: 0.8305 - val_accuracy: 0.5000\n",
      "Epoch 12/25\n",
      "2/2 [==============================] - 1s 399ms/step - loss: 0.3838 - accuracy: 0.8600 - val_loss: 0.7598 - val_accuracy: 0.5000\n",
      "Epoch 13/25\n",
      "2/2 [==============================] - 1s 399ms/step - loss: 0.3937 - accuracy: 0.8400 - val_loss: 0.8030 - val_accuracy: 0.5000\n",
      "Epoch 14/25\n",
      "2/2 [==============================] - 1s 465ms/step - loss: 0.3291 - accuracy: 0.9000 - val_loss: 0.8810 - val_accuracy: 0.5000\n",
      "Epoch 15/25\n",
      "2/2 [==============================] - 1s 366ms/step - loss: 0.3342 - accuracy: 0.8400 - val_loss: 0.9262 - val_accuracy: 0.5000\n",
      "Epoch 16/25\n",
      "2/2 [==============================] - 1s 452ms/step - loss: 0.2440 - accuracy: 0.9600 - val_loss: 0.7485 - val_accuracy: 0.7000\n",
      "Epoch 17/25\n",
      "2/2 [==============================] - 1s 259ms/step - loss: 0.2203 - accuracy: 0.9600 - val_loss: 0.7068 - val_accuracy: 0.7000\n",
      "Epoch 18/25\n",
      "2/2 [==============================] - 1s 340ms/step - loss: 0.1715 - accuracy: 0.9600 - val_loss: 0.8245 - val_accuracy: 0.7000\n",
      "Epoch 19/25\n",
      "2/2 [==============================] - 1s 390ms/step - loss: 0.1418 - accuracy: 0.9400 - val_loss: 0.6289 - val_accuracy: 0.6000\n",
      "Epoch 20/25\n",
      "2/2 [==============================] - 0s 239ms/step - loss: 0.1538 - accuracy: 0.9600 - val_loss: 0.7803 - val_accuracy: 0.7000\n",
      "Epoch 21/25\n",
      "2/2 [==============================] - 1s 323ms/step - loss: 0.1158 - accuracy: 0.9600 - val_loss: 0.9284 - val_accuracy: 0.8000\n",
      "Epoch 22/25\n",
      "2/2 [==============================] - 1s 451ms/step - loss: 0.0710 - accuracy: 0.9800 - val_loss: 0.6853 - val_accuracy: 0.8000\n",
      "Epoch 23/25\n",
      "2/2 [==============================] - 1s 293ms/step - loss: 0.0652 - accuracy: 0.9800 - val_loss: 0.6785 - val_accuracy: 0.7000\n",
      "Epoch 24/25\n",
      "2/2 [==============================] - 1s 444ms/step - loss: 0.0856 - accuracy: 0.9800 - val_loss: 0.7685 - val_accuracy: 0.7000\n",
      "Epoch 25/25\n",
      "2/2 [==============================] - 0s 249ms/step - loss: 0.0788 - accuracy: 0.9600 - val_loss: 1.1321 - val_accuracy: 0.7000\n"
     ]
    }
   ],
   "source": [
    "trained_model = cnn.fit(x = training_set, validation_data = test_set, epochs = 25)"
   ]
  },
  {
   "cell_type": "code",
   "execution_count": 15,
   "id": "eed947f8",
   "metadata": {},
   "outputs": [],
   "source": [
    "import numpy as np\n",
    "from keras.preprocessing import image\n",
    "test_image = image.load_img('dataset/pokemon/pika_pika/single_prediction/check_4.jpeg', target_size = (64, 64))\n",
    "test_image = image.img_to_array(test_image)\n",
    "test_image = np.expand_dims(test_image, axis = 0)\n",
    "result = cnn.predict(test_image)\n",
    "training_set.class_indices\n",
    "if result[0][0] == 1:\n",
    "  prediction = 'pikachu'\n",
    "else:\n",
    "  prediction = 'raichu'"
   ]
  },
  {
   "cell_type": "code",
   "execution_count": 16,
   "id": "b22d21d7",
   "metadata": {},
   "outputs": [
    {
     "name": "stdout",
     "output_type": "stream",
     "text": [
      "raichu\n"
     ]
    }
   ],
   "source": [
    "print(prediction)"
   ]
  },
  {
   "cell_type": "code",
   "execution_count": null,
   "id": "5f1d61c8",
   "metadata": {},
   "outputs": [],
   "source": []
  }
 ],
 "metadata": {
  "kernelspec": {
   "display_name": "Python 3",
   "language": "python",
   "name": "python3"
  },
  "language_info": {
   "codemirror_mode": {
    "name": "ipython",
    "version": 3
   },
   "file_extension": ".py",
   "mimetype": "text/x-python",
   "name": "python",
   "nbconvert_exporter": "python",
   "pygments_lexer": "ipython3",
   "version": "3.8.8"
  }
 },
 "nbformat": 4,
 "nbformat_minor": 5
}
